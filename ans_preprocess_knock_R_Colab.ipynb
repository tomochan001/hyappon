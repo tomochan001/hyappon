{
  "nbformat": 4,
  "nbformat_minor": 0,
  "metadata": {
    "colab": {
      "name": "preprocess_knock_R_Colab.ipynb",
      "provenance": [],
      "include_colab_link": true
    },
    "kernelspec": {
      "name": "ir",
      "display_name": "R"
    }
  },
  "cells": [
    {
      "cell_type": "markdown",
      "metadata": {
        "id": "view-in-github",
        "colab_type": "text"
      },
      "source": [
        "<a href=\"https://colab.research.google.com/github/tomochan001/hyappon/blob/master/ans_preprocess_knock_R_Colab.ipynb\" target=\"_parent\"><img src=\"https://colab.research.google.com/assets/colab-badge.svg\" alt=\"Open In Colab\"/></a>"
      ]
    },
    {
      "cell_type": "markdown",
      "metadata": {
        "id": "sGBVJyGrnAdc",
        "colab_type": "text"
      },
      "source": [
        "# データサイエンス100本ノック（構造化データ加工編） - R"
      ]
    },
    {
      "cell_type": "markdown",
      "metadata": {
        "id": "C10vv6-onUqS",
        "colab_type": "text"
      },
      "source": [
        "## はじめに"
      ]
    },
    {
      "cell_type": "markdown",
      "metadata": {
        "id": "XEiqj0MOnav4",
        "colab_type": "text"
      },
      "source": [
        "- 初めに以下のセルを実行してください\n",
        "- 必要なライブラリのインポートと~~データベース（PostgreSQL）からのデータ読み込みを行います~~\n",
        "- 利用が想定されるライブラリは以下セルでインポートしています\n",
        "- その他利用したいライブラリがあれば適宜インストールしてください（!マークに続けてOSコマンドを入力することで、任意のubuntu Linuxコマンドが入力可能）\n",
        "- 名前、住所等はダミーデータであり、実在するものではありません"
      ]
    },
    {
      "cell_type": "code",
      "metadata": {
        "id": "jxzzev0Xl0V-",
        "colab_type": "code",
        "colab": {
          "base_uri": "https://localhost:8080/",
          "height": 255
        },
        "outputId": "d6ec7333-4ff9-45cf-c376-78683cb4860e"
      },
      "source": [
        "require('tidyr')\n",
        "require('dplyr')\n",
        "require('stringr')\n",
        "require('caret')\n",
        "require('lubridate')\n",
        "require('rsample')\n",
        "require('unbalanced')\n",
        "require('readr')"
      ],
      "execution_count": null,
      "outputs": [
        {
          "output_type": "stream",
          "text": [
            "Loading required package: caret\n",
            "\n",
            "Warning message in library(package, lib.loc = lib.loc, character.only = TRUE, logical.return = TRUE, :\n",
            "“there is no package called ‘caret’”\n",
            "Loading required package: rsample\n",
            "\n",
            "Warning message in library(package, lib.loc = lib.loc, character.only = TRUE, logical.return = TRUE, :\n",
            "“there is no package called ‘rsample’”\n",
            "Loading required package: unbalanced\n",
            "\n",
            "Warning message in library(package, lib.loc = lib.loc, character.only = TRUE, logical.return = TRUE, :\n",
            "“there is no package called ‘unbalanced’”\n",
            "Loading required package: readr\n",
            "\n"
          ],
          "name": "stderr"
        }
      ]
    },
    {
      "cell_type": "code",
      "metadata": {
        "id": "PkWYgzBLnL3i",
        "colab_type": "code",
        "colab": {}
      },
      "source": [
        "# データを github/he-Japan-DataScientist-Society/100knocks-preprocess/master/docker/work/data/ フォルダよりDataframe形式でRead\n",
        "df_customer = read.csv('https://raw.githubusercontent.com/The-Japan-DataScientist-Society/100knocks-preprocess/master/docker/work/data/customer.csv', quote=\"\", stringsAsFactors=F)\n",
        "df_category = read.csv('https://raw.githubusercontent.com/The-Japan-DataScientist-Society/100knocks-preprocess/master/docker/work/data/category.csv', quote=\"\", stringsAsFactors=F)\n",
        "df_product = read.csv('https://raw.githubusercontent.com/The-Japan-DataScientist-Society/100knocks-preprocess/master/docker/work/data/product.csv', quote=\"\", stringsAsFactors=F)\n",
        "df_receipt = read.csv('https://raw.githubusercontent.com/The-Japan-DataScientist-Society/100knocks-preprocess/master/docker/work/data/receipt.csv', quote=\"\", stringsAsFactors=F)\n",
        "df_store = read.csv('https://raw.githubusercontent.com/The-Japan-DataScientist-Society/100knocks-preprocess/master/docker/work/data/store.csv', quote=\"\", stringsAsFactors=F)\n",
        "# df_geocode = read.csv('https://raw.githubusercontent.com/noguhiro2002/100knocks-preprocess_ForColab-AzureNotebook/master/data/geocode.csv', quote=\"\", stringsAsFactors=F)\n",
        "df_geocode = read.csv('https://github.com/The-Japan-DataScientist-Society/100knocks-preprocess/blob/master/docker/work/data/geocode.csv', quote=\"\", stringsAsFactors=F) # エラーが出る"
      ],
      "execution_count": 4,
      "outputs": []
    },
    {
      "cell_type": "code",
      "metadata": {
        "id": "QZVYbkmznNqD",
        "colab_type": "code",
        "colab": {
          "base_uri": "https://localhost:8080/",
          "height": 187
        },
        "outputId": "4e36c25e-2224-453f-d286-0ce5260d6cce"
      },
      "source": [
        "str(df_receipt)"
      ],
      "execution_count": 5,
      "outputs": [
        {
          "output_type": "stream",
          "text": [
            "'data.frame':\t104681 obs. of  9 variables:\n",
            " $ sales_ymd     : int  20181103 20181118 20170712 20190205 20180821 20190605 20181205 20190922 20170504 20191010 ...\n",
            " $ sales_epoch   : int  1257206400 1258502400 1215820800 1265328000 1250812800 1275696000 1259971200 1285113600 1209859200 1286668800 ...\n",
            " $ store_cd      : chr  \"S14006\" \"S13008\" \"S14028\" \"S14042\" ...\n",
            " $ receipt_no    : int  112 1132 1102 1132 1102 1112 1102 1102 1112 1102 ...\n",
            " $ receipt_sub_no: int  1 2 1 1 2 1 2 1 2 1 ...\n",
            " $ customer_id   : chr  \"CS006214000001\" \"CS008415000097\" \"CS028414000014\" \"ZZ000000000000\" ...\n",
            " $ product_cd    : chr  \"P070305012\" \"P070701017\" \"P060101005\" \"P050301001\" ...\n",
            " $ quantity      : int  1 1 1 1 1 1 1 1 1 1 ...\n",
            " $ amount        : int  158 81 170 25 90 138 30 128 770 680 ...\n"
          ],
          "name": "stdout"
        }
      ]
    },
    {
      "cell_type": "markdown",
      "metadata": {
        "id": "J_O8lVXq1-mv",
        "colab_type": "text"
      },
      "source": [
        ">R-001: レシート明細データフレーム（df_receipt）から全項目の先頭10件を表示し、どのようなデータを保有しているか目視で確認せよ。"
      ]
    },
    {
      "cell_type": "code",
      "metadata": {
        "id": "XZnmT7Weu2Km",
        "colab_type": "code",
        "colab": {
          "base_uri": "https://localhost:8080/",
          "height": 288
        },
        "outputId": "dc14722a-1d8d-4f21-81cf-fe06c2beb185"
      },
      "source": [
        "head(df_receipt, n = 10)"
      ],
      "execution_count": 6,
      "outputs": [
        {
          "output_type": "display_data",
          "data": {
            "text/plain": [
              "   sales_ymd sales_epoch store_cd receipt_no receipt_sub_no customer_id   \n",
              "1  20181103  1257206400  S14006    112       1              CS006214000001\n",
              "2  20181118  1258502400  S13008   1132       2              CS008415000097\n",
              "3  20170712  1215820800  S14028   1102       1              CS028414000014\n",
              "4  20190205  1265328000  S14042   1132       1              ZZ000000000000\n",
              "5  20180821  1250812800  S14025   1102       2              CS025415000050\n",
              "6  20190605  1275696000  S13003   1112       1              CS003515000195\n",
              "7  20181205  1259971200  S14024   1102       2              CS024514000042\n",
              "8  20190922  1285113600  S14040   1102       1              CS040415000178\n",
              "9  20170504  1209859200  S13020   1112       2              ZZ000000000000\n",
              "10 20191010  1286668800  S14027   1102       1              CS027514000015\n",
              "   product_cd quantity amount\n",
              "1  P070305012 1        158   \n",
              "2  P070701017 1         81   \n",
              "3  P060101005 1        170   \n",
              "4  P050301001 1         25   \n",
              "5  P060102007 1         90   \n",
              "6  P050102002 1        138   \n",
              "7  P080101005 1         30   \n",
              "8  P070501004 1        128   \n",
              "9  P071302010 1        770   \n",
              "10 P071101003 1        680   "
            ],
            "text/latex": "A data.frame: 10 × 9\n\\begin{tabular}{r|lllllllll}\n  & sales\\_ymd & sales\\_epoch & store\\_cd & receipt\\_no & receipt\\_sub\\_no & customer\\_id & product\\_cd & quantity & amount\\\\\n  & <int> & <int> & <chr> & <int> & <int> & <chr> & <chr> & <int> & <int>\\\\\n\\hline\n\t1 & 20181103 & 1257206400 & S14006 &  112 & 1 & CS006214000001 & P070305012 & 1 & 158\\\\\n\t2 & 20181118 & 1258502400 & S13008 & 1132 & 2 & CS008415000097 & P070701017 & 1 &  81\\\\\n\t3 & 20170712 & 1215820800 & S14028 & 1102 & 1 & CS028414000014 & P060101005 & 1 & 170\\\\\n\t4 & 20190205 & 1265328000 & S14042 & 1132 & 1 & ZZ000000000000 & P050301001 & 1 &  25\\\\\n\t5 & 20180821 & 1250812800 & S14025 & 1102 & 2 & CS025415000050 & P060102007 & 1 &  90\\\\\n\t6 & 20190605 & 1275696000 & S13003 & 1112 & 1 & CS003515000195 & P050102002 & 1 & 138\\\\\n\t7 & 20181205 & 1259971200 & S14024 & 1102 & 2 & CS024514000042 & P080101005 & 1 &  30\\\\\n\t8 & 20190922 & 1285113600 & S14040 & 1102 & 1 & CS040415000178 & P070501004 & 1 & 128\\\\\n\t9 & 20170504 & 1209859200 & S13020 & 1112 & 2 & ZZ000000000000 & P071302010 & 1 & 770\\\\\n\t10 & 20191010 & 1286668800 & S14027 & 1102 & 1 & CS027514000015 & P071101003 & 1 & 680\\\\\n\\end{tabular}\n",
            "text/markdown": "\nA data.frame: 10 × 9\n\n| <!--/--> | sales_ymd &lt;int&gt; | sales_epoch &lt;int&gt; | store_cd &lt;chr&gt; | receipt_no &lt;int&gt; | receipt_sub_no &lt;int&gt; | customer_id &lt;chr&gt; | product_cd &lt;chr&gt; | quantity &lt;int&gt; | amount &lt;int&gt; |\n|---|---|---|---|---|---|---|---|---|---|\n| 1 | 20181103 | 1257206400 | S14006 |  112 | 1 | CS006214000001 | P070305012 | 1 | 158 |\n| 2 | 20181118 | 1258502400 | S13008 | 1132 | 2 | CS008415000097 | P070701017 | 1 |  81 |\n| 3 | 20170712 | 1215820800 | S14028 | 1102 | 1 | CS028414000014 | P060101005 | 1 | 170 |\n| 4 | 20190205 | 1265328000 | S14042 | 1132 | 1 | ZZ000000000000 | P050301001 | 1 |  25 |\n| 5 | 20180821 | 1250812800 | S14025 | 1102 | 2 | CS025415000050 | P060102007 | 1 |  90 |\n| 6 | 20190605 | 1275696000 | S13003 | 1112 | 1 | CS003515000195 | P050102002 | 1 | 138 |\n| 7 | 20181205 | 1259971200 | S14024 | 1102 | 2 | CS024514000042 | P080101005 | 1 |  30 |\n| 8 | 20190922 | 1285113600 | S14040 | 1102 | 1 | CS040415000178 | P070501004 | 1 | 128 |\n| 9 | 20170504 | 1209859200 | S13020 | 1112 | 2 | ZZ000000000000 | P071302010 | 1 | 770 |\n| 10 | 20191010 | 1286668800 | S14027 | 1102 | 1 | CS027514000015 | P071101003 | 1 | 680 |\n\n",
            "text/html": [
              "<table>\n",
              "<caption>A data.frame: 10 × 9</caption>\n",
              "<thead>\n",
              "\t<tr><th></th><th scope=col>sales_ymd</th><th scope=col>sales_epoch</th><th scope=col>store_cd</th><th scope=col>receipt_no</th><th scope=col>receipt_sub_no</th><th scope=col>customer_id</th><th scope=col>product_cd</th><th scope=col>quantity</th><th scope=col>amount</th></tr>\n",
              "\t<tr><th></th><th scope=col>&lt;int&gt;</th><th scope=col>&lt;int&gt;</th><th scope=col>&lt;chr&gt;</th><th scope=col>&lt;int&gt;</th><th scope=col>&lt;int&gt;</th><th scope=col>&lt;chr&gt;</th><th scope=col>&lt;chr&gt;</th><th scope=col>&lt;int&gt;</th><th scope=col>&lt;int&gt;</th></tr>\n",
              "</thead>\n",
              "<tbody>\n",
              "\t<tr><th scope=row>1</th><td>20181103</td><td>1257206400</td><td>S14006</td><td> 112</td><td>1</td><td>CS006214000001</td><td>P070305012</td><td>1</td><td>158</td></tr>\n",
              "\t<tr><th scope=row>2</th><td>20181118</td><td>1258502400</td><td>S13008</td><td>1132</td><td>2</td><td>CS008415000097</td><td>P070701017</td><td>1</td><td> 81</td></tr>\n",
              "\t<tr><th scope=row>3</th><td>20170712</td><td>1215820800</td><td>S14028</td><td>1102</td><td>1</td><td>CS028414000014</td><td>P060101005</td><td>1</td><td>170</td></tr>\n",
              "\t<tr><th scope=row>4</th><td>20190205</td><td>1265328000</td><td>S14042</td><td>1132</td><td>1</td><td>ZZ000000000000</td><td>P050301001</td><td>1</td><td> 25</td></tr>\n",
              "\t<tr><th scope=row>5</th><td>20180821</td><td>1250812800</td><td>S14025</td><td>1102</td><td>2</td><td>CS025415000050</td><td>P060102007</td><td>1</td><td> 90</td></tr>\n",
              "\t<tr><th scope=row>6</th><td>20190605</td><td>1275696000</td><td>S13003</td><td>1112</td><td>1</td><td>CS003515000195</td><td>P050102002</td><td>1</td><td>138</td></tr>\n",
              "\t<tr><th scope=row>7</th><td>20181205</td><td>1259971200</td><td>S14024</td><td>1102</td><td>2</td><td>CS024514000042</td><td>P080101005</td><td>1</td><td> 30</td></tr>\n",
              "\t<tr><th scope=row>8</th><td>20190922</td><td>1285113600</td><td>S14040</td><td>1102</td><td>1</td><td>CS040415000178</td><td>P070501004</td><td>1</td><td>128</td></tr>\n",
              "\t<tr><th scope=row>9</th><td>20170504</td><td>1209859200</td><td>S13020</td><td>1112</td><td>2</td><td>ZZ000000000000</td><td>P071302010</td><td>1</td><td>770</td></tr>\n",
              "\t<tr><th scope=row>10</th><td>20191010</td><td>1286668800</td><td>S14027</td><td>1102</td><td>1</td><td>CS027514000015</td><td>P071101003</td><td>1</td><td>680</td></tr>\n",
              "</tbody>\n",
              "</table>\n"
            ]
          },
          "metadata": {
            "tags": []
          }
        }
      ]
    },
    {
      "cell_type": "markdown",
      "metadata": {
        "id": "9ooSY_VF2M3f",
        "colab_type": "text"
      },
      "source": [
        ">R-002: レシート明細データフレーム（df_receipt）から売上日（sales_ymd）、顧客ID（customer_id）、商品コード（product_cd）、売上金額（amount）の順に列を指定し、10件表示させよ。\b"
      ]
    },
    {
      "cell_type": "code",
      "metadata": {
        "id": "BfweDRmP2h_3",
        "colab_type": "code",
        "colab": {
          "base_uri": "https://localhost:8080/",
          "height": 288
        },
        "outputId": "a55e3bdc-85e5-4a00-f56c-2d03e0ffc483"
      },
      "source": [
        "head(df_receipt[c(\"sales_ymd\", \"customer_id\", \"product_cd\", \"amount\")], n=10)"
      ],
      "execution_count": 8,
      "outputs": [
        {
          "output_type": "display_data",
          "data": {
            "text/plain": [
              "   sales_ymd customer_id    product_cd amount\n",
              "1  20181103  CS006214000001 P070305012 158   \n",
              "2  20181118  CS008415000097 P070701017  81   \n",
              "3  20170712  CS028414000014 P060101005 170   \n",
              "4  20190205  ZZ000000000000 P050301001  25   \n",
              "5  20180821  CS025415000050 P060102007  90   \n",
              "6  20190605  CS003515000195 P050102002 138   \n",
              "7  20181205  CS024514000042 P080101005  30   \n",
              "8  20190922  CS040415000178 P070501004 128   \n",
              "9  20170504  ZZ000000000000 P071302010 770   \n",
              "10 20191010  CS027514000015 P071101003 680   "
            ],
            "text/latex": "A data.frame: 10 × 4\n\\begin{tabular}{r|llll}\n  & sales\\_ymd & customer\\_id & product\\_cd & amount\\\\\n  & <int> & <chr> & <chr> & <int>\\\\\n\\hline\n\t1 & 20181103 & CS006214000001 & P070305012 & 158\\\\\n\t2 & 20181118 & CS008415000097 & P070701017 &  81\\\\\n\t3 & 20170712 & CS028414000014 & P060101005 & 170\\\\\n\t4 & 20190205 & ZZ000000000000 & P050301001 &  25\\\\\n\t5 & 20180821 & CS025415000050 & P060102007 &  90\\\\\n\t6 & 20190605 & CS003515000195 & P050102002 & 138\\\\\n\t7 & 20181205 & CS024514000042 & P080101005 &  30\\\\\n\t8 & 20190922 & CS040415000178 & P070501004 & 128\\\\\n\t9 & 20170504 & ZZ000000000000 & P071302010 & 770\\\\\n\t10 & 20191010 & CS027514000015 & P071101003 & 680\\\\\n\\end{tabular}\n",
            "text/markdown": "\nA data.frame: 10 × 4\n\n| <!--/--> | sales_ymd &lt;int&gt; | customer_id &lt;chr&gt; | product_cd &lt;chr&gt; | amount &lt;int&gt; |\n|---|---|---|---|---|\n| 1 | 20181103 | CS006214000001 | P070305012 | 158 |\n| 2 | 20181118 | CS008415000097 | P070701017 |  81 |\n| 3 | 20170712 | CS028414000014 | P060101005 | 170 |\n| 4 | 20190205 | ZZ000000000000 | P050301001 |  25 |\n| 5 | 20180821 | CS025415000050 | P060102007 |  90 |\n| 6 | 20190605 | CS003515000195 | P050102002 | 138 |\n| 7 | 20181205 | CS024514000042 | P080101005 |  30 |\n| 8 | 20190922 | CS040415000178 | P070501004 | 128 |\n| 9 | 20170504 | ZZ000000000000 | P071302010 | 770 |\n| 10 | 20191010 | CS027514000015 | P071101003 | 680 |\n\n",
            "text/html": [
              "<table>\n",
              "<caption>A data.frame: 10 × 4</caption>\n",
              "<thead>\n",
              "\t<tr><th></th><th scope=col>sales_ymd</th><th scope=col>customer_id</th><th scope=col>product_cd</th><th scope=col>amount</th></tr>\n",
              "\t<tr><th></th><th scope=col>&lt;int&gt;</th><th scope=col>&lt;chr&gt;</th><th scope=col>&lt;chr&gt;</th><th scope=col>&lt;int&gt;</th></tr>\n",
              "</thead>\n",
              "<tbody>\n",
              "\t<tr><th scope=row>1</th><td>20181103</td><td>CS006214000001</td><td>P070305012</td><td>158</td></tr>\n",
              "\t<tr><th scope=row>2</th><td>20181118</td><td>CS008415000097</td><td>P070701017</td><td> 81</td></tr>\n",
              "\t<tr><th scope=row>3</th><td>20170712</td><td>CS028414000014</td><td>P060101005</td><td>170</td></tr>\n",
              "\t<tr><th scope=row>4</th><td>20190205</td><td>ZZ000000000000</td><td>P050301001</td><td> 25</td></tr>\n",
              "\t<tr><th scope=row>5</th><td>20180821</td><td>CS025415000050</td><td>P060102007</td><td> 90</td></tr>\n",
              "\t<tr><th scope=row>6</th><td>20190605</td><td>CS003515000195</td><td>P050102002</td><td>138</td></tr>\n",
              "\t<tr><th scope=row>7</th><td>20181205</td><td>CS024514000042</td><td>P080101005</td><td> 30</td></tr>\n",
              "\t<tr><th scope=row>8</th><td>20190922</td><td>CS040415000178</td><td>P070501004</td><td>128</td></tr>\n",
              "\t<tr><th scope=row>9</th><td>20170504</td><td>ZZ000000000000</td><td>P071302010</td><td>770</td></tr>\n",
              "\t<tr><th scope=row>10</th><td>20191010</td><td>CS027514000015</td><td>P071101003</td><td>680</td></tr>\n",
              "</tbody>\n",
              "</table>\n"
            ]
          },
          "metadata": {
            "tags": []
          }
        }
      ]
    },
    {
      "cell_type": "code",
      "metadata": {
        "id": "qJ-MrZ5p21Ce",
        "colab_type": "code",
        "colab": {}
      },
      "source": [
        ""
      ],
      "execution_count": null,
      "outputs": []
    }
  ]
}